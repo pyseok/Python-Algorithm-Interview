{
 "cells": [
  {
   "cell_type": "markdown",
   "metadata": {},
   "source": [
    "# 자신을 제외한 배열의 곱\n",
    "\n",
    "배열을 입력받아 output[i]가 자신을 제외한 나머지 모든 요소의 곱셈 결과가 되도록 출력하라.\\\n",
    "입력 : [1,2,3,4]\\\n",
    "출력 : [24, 12, 8, 6]\n",
    "* 나눗셈 하지 말 것\n",
    "* O(n)안으로 풀이할 것"
   ]
  },
  {
   "cell_type": "markdown",
   "metadata": {},
   "source": [
    "  1 2 3 4\n",
    " 1 1 2 6\n",
    "   24 12 4 1"
   ]
  },
  {
   "cell_type": "code",
   "execution_count": 19,
   "metadata": {},
   "outputs": [
    {
     "name": "stdout",
     "output_type": "stream",
     "text": [
      "5\n",
      "4\n",
      "3\n",
      "2\n"
     ]
    }
   ],
   "source": [
    "for i in range(5,1,-1):\n",
    "    print(i)"
   ]
  },
  {
   "cell_type": "code",
   "execution_count": 40,
   "metadata": {},
   "outputs": [],
   "source": [
    "from typing import List\n",
    "\n",
    "def multiply(nums:List[int])->List[int]:\n",
    "    results = []\n",
    "    left_mul = [1]\n",
    "    right_mul = [1]\n",
    "    mul = 1\n",
    "    for i in range(0,len(nums)-1):\n",
    "        mul*=nums[i]\n",
    "        left_mul.append(mul)\n",
    "    mul = 1\n",
    "    for j in range(len(nums)-1,0,-1):\n",
    "        mul*=nums[j]\n",
    "        right_mul.append(mul)\n",
    "    \n",
    "    for k in range(len(nums)):\n",
    "        results.append(left_mul[k] * right_mul[len(nums)-1-k])\n",
    "    return results"
   ]
  },
  {
   "cell_type": "code",
   "execution_count": 41,
   "metadata": {},
   "outputs": [
    {
     "data": {
      "text/plain": [
       "[24, 12, 8, 6]"
      ]
     },
     "execution_count": 41,
     "metadata": {},
     "output_type": "execute_result"
    }
   ],
   "source": [
    "nums = [1,2,3,4]\n",
    "multiply(nums)"
   ]
  },
  {
   "cell_type": "code",
   "execution_count": null,
   "metadata": {},
   "outputs": [],
   "source": []
  }
 ],
 "metadata": {
  "kernelspec": {
   "display_name": "Python 3",
   "language": "python",
   "name": "python3"
  },
  "language_info": {
   "codemirror_mode": {
    "name": "ipython",
    "version": 3
   },
   "file_extension": ".py",
   "mimetype": "text/x-python",
   "name": "python",
   "nbconvert_exporter": "python",
   "pygments_lexer": "ipython3",
   "version": "3.7.6"
  }
 },
 "nbformat": 4,
 "nbformat_minor": 4
}
