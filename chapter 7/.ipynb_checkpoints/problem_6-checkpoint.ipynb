{
 "cells": [
  {
   "cell_type": "markdown",
   "metadata": {},
   "source": [
    "### 6장"
   ]
  },
  {
   "cell_type": "markdown",
   "metadata": {},
   "source": [
    "### Chap1 유효한 펠린드롬"
   ]
  },
  {
   "cell_type": "code",
   "execution_count": 241,
   "metadata": {},
   "outputs": [],
   "source": [
    "# 펠린드롬인지 확인해라. (펠린드롬 : 뒤집어도 같은 말이 되는 단어 또는 문장)\n",
    "# 1. \"A man, a plan, a canal: Panama\"\n",
    "# 2. \"race a car\""
   ]
  },
  {
   "cell_type": "code",
   "execution_count": 178,
   "metadata": {},
   "outputs": [],
   "source": [
    "string1 = \"A man, a plan, a canal: Panama\"\n",
    "string2 = \"race a car\""
   ]
  },
  {
   "cell_type": "code",
   "execution_count": 209,
   "metadata": {},
   "outputs": [],
   "source": [
    "def my_Palindrome(string):\n",
    "    string = string.lower()\n",
    "    str_temp = []\n",
    "    for i in string:\n",
    "        if i.isalpha():\n",
    "            str_temp.append(i)\n",
    "    length = len(str_temp)\n",
    "    if length%2 == 1: # 2n개의 문자열과 2n+1개의 문자열은 비교해야 하는 인덱스가 같으므로\n",
    "        length = len(str_temp)-1\n",
    "        \n",
    "    for i in range(length//2):\n",
    "        if (str_temp[i] != str_temp[-(i+1)]):\n",
    "            return False\n",
    "    return True"
   ]
  },
  {
   "cell_type": "code",
   "execution_count": 210,
   "metadata": {},
   "outputs": [
    {
     "data": {
      "text/plain": [
       "[True, False]"
      ]
     },
     "execution_count": 210,
     "metadata": {},
     "output_type": "execute_result"
    }
   ],
   "source": [
    "list(map(my_Palindrome, [string1, string2]))"
   ]
  },
  {
   "cell_type": "code",
   "execution_count": 218,
   "metadata": {},
   "outputs": [],
   "source": [
    "# 풀이 1\n",
    "\n",
    "def isPalindrome(s: str) -> bool:\n",
    "    strs = []\n",
    "    for char in s:\n",
    "        if char.isalnum():\n",
    "            strs.append(char.lower())\n",
    "    while len(strs)>1:\n",
    "        if strs.pop(0) != strs.pop():\n",
    "            return False\n",
    "    return True"
   ]
  },
  {
   "cell_type": "code",
   "execution_count": 220,
   "metadata": {},
   "outputs": [
    {
     "data": {
      "text/plain": [
       "[True, False]"
      ]
     },
     "execution_count": 220,
     "metadata": {},
     "output_type": "execute_result"
    }
   ],
   "source": [
    "list(map(isPalindrome, [string1, string2]))"
   ]
  },
  {
   "cell_type": "code",
   "execution_count": 223,
   "metadata": {},
   "outputs": [],
   "source": [
    "import collections"
   ]
  },
  {
   "cell_type": "code",
   "execution_count": 224,
   "metadata": {},
   "outputs": [],
   "source": [
    "# 풀이 2\n",
    "def isPalindrome(s: str) -> bool:\n",
    "    strs: Deque = collections.deque()\n",
    "    \n",
    "    for char in s:\n",
    "        if char.isalnum():\n",
    "            strs.append(char.lower())\n",
    "    while len(strs) > 1:\n",
    "        if strs.popleft() != strs.pop():\n",
    "            return False\n",
    "    return True"
   ]
  },
  {
   "cell_type": "code",
   "execution_count": 239,
   "metadata": {},
   "outputs": [
    {
     "data": {
      "text/plain": [
       "[True, False]"
      ]
     },
     "execution_count": 239,
     "metadata": {},
     "output_type": "execute_result"
    }
   ],
   "source": [
    "list(map(isPalindrome, [string1, string2]))"
   ]
  },
  {
   "cell_type": "code",
   "execution_count": 227,
   "metadata": {},
   "outputs": [
    {
     "data": {
      "text/plain": [
       "collections.deque"
      ]
     },
     "execution_count": 227,
     "metadata": {},
     "output_type": "execute_result"
    }
   ],
   "source": [
    "strs = collections.deque()\n",
    "type(strs)"
   ]
  },
  {
   "cell_type": "code",
   "execution_count": 242,
   "metadata": {},
   "outputs": [],
   "source": [
    "# 풀이 3\n",
    "import re\n",
    "def isPalindrome(s: str) -> bool:\n",
    "    s = s.lower()\n",
    "    s = re.sub('[^a-z0-9]', '', s)\n",
    "    \n",
    "    return s == s[::-1]"
   ]
  },
  {
   "cell_type": "code",
   "execution_count": 240,
   "metadata": {},
   "outputs": [
    {
     "data": {
      "text/plain": [
       "[True, False]"
      ]
     },
     "execution_count": 240,
     "metadata": {},
     "output_type": "execute_result"
    }
   ],
   "source": [
    "list(map(isPalindrome, [string1, string2]))"
   ]
  },
  {
   "cell_type": "code",
   "execution_count": null,
   "metadata": {},
   "outputs": [],
   "source": [
    "# 문자열 슬라이싱 : 내부적으로 매우 빠름"
   ]
  },
  {
   "cell_type": "markdown",
   "metadata": {},
   "source": [
    "### Chap 2 문자열 뒤집기"
   ]
  },
  {
   "cell_type": "code",
   "execution_count": 243,
   "metadata": {},
   "outputs": [],
   "source": [
    "# 문자열을 뒤집는 함수를 작성해라. 입력값은 문자 배열이며, 리턴 없이 리스트 내부를 직접 조작하라."
   ]
  },
  {
   "cell_type": "code",
   "execution_count": 244,
   "metadata": {},
   "outputs": [],
   "source": [
    "# 예제 1)\n",
    "# ['h','e','l','l','o'] -> ['o','l','l','e','h']"
   ]
  },
  {
   "cell_type": "code",
   "execution_count": 427,
   "metadata": {},
   "outputs": [],
   "source": [
    "str1 = list(string1)\n",
    "str2 = list(string2)"
   ]
  },
  {
   "cell_type": "code",
   "execution_count": 424,
   "metadata": {},
   "outputs": [
    {
     "ename": "SyntaxError",
     "evalue": "invalid syntax (<ipython-input-424-afa3a538ef02>, line 1)",
     "output_type": "error",
     "traceback": [
      "\u001b[1;36m  File \u001b[1;32m\"<ipython-input-424-afa3a538ef02>\"\u001b[1;36m, line \u001b[1;32m1\u001b[0m\n\u001b[1;33m    if 7//2==1 : 7-1 else: 7\u001b[0m\n\u001b[1;37m                        ^\u001b[0m\n\u001b[1;31mSyntaxError\u001b[0m\u001b[1;31m:\u001b[0m invalid syntax\n"
     ]
    }
   ],
   "source": [
    "(len(s)-1)//2 if len(s)//2 == 0 else (len(s)//2)-1"
   ]
  },
  {
   "cell_type": "code",
   "execution_count": 425,
   "metadata": {},
   "outputs": [],
   "source": [
    "import collections\n",
    "from typing import List\n",
    "\n",
    "def my_revstr(s: List[str]) -> None:\n",
    "    for i in range((len(s)-1)//2 if len(s)//2 == 0 else (len(s)//2)-1):\n",
    "        s.append(s.pop(i))\n",
    "# 틀린 풀이"
   ]
  },
  {
   "cell_type": "code",
   "execution_count": 358,
   "metadata": {},
   "outputs": [],
   "source": [
    "# 풀이 1\n",
    "# 투 포인터를 이용한 스왑\n",
    "def reverseString1(s: List[str]) -> None:\n",
    "    left, right = 0, len(s) - 1\n",
    "    while left < right:\n",
    "        s[left], s[right] = s[right], s[left]\n",
    "        left += 1\n",
    "        right -= 1"
   ]
  },
  {
   "cell_type": "code",
   "execution_count": 344,
   "metadata": {},
   "outputs": [
    {
     "name": "stdout",
     "output_type": "stream",
     "text": [
      "['m', 'a', 'n', ',', ' ', 'a', ' ', 'p', 'l', 'a', 'n', ',', ' ', 'a', ' ', 'c', 'a', 'n', 'a', 'l', ':', ' ', 'P', 'a', 'n', 'a', 'm', 'a', 'A', ' ']\n",
      "[' ', 'A', 'a', 'm', 'a', 'n', 'a', 'P', ' ', ':', 'l', 'a', 'n', 'a', 'c', ' ', 'a', ' ', ',', 'n', 'a', 'l', 'p', ' ', 'a', ' ', ',', 'n', 'a', 'm']\n"
     ]
    }
   ],
   "source": [
    "print(str1)\n",
    "reverseString(str1)\n",
    "print(str1)"
   ]
  },
  {
   "cell_type": "code",
   "execution_count": 359,
   "metadata": {},
   "outputs": [],
   "source": [
    "# 풀이 2 (more pythonic way)\n",
    "def reverseString2(s: List[str]) -> None:\n",
    "    s.reverse()"
   ]
  },
  {
   "cell_type": "code",
   "execution_count": 349,
   "metadata": {},
   "outputs": [
    {
     "name": "stdout",
     "output_type": "stream",
     "text": [
      "['m', 'a', 'n', ',', ' ', 'a', ' ', 'p', 'l', 'a', 'n', ',', ' ', 'a', ' ', 'c', 'a', 'n', 'a', 'l', ':', ' ', 'P', 'a', 'n', 'a', 'm', 'a', 'A', ' ']\n",
      "[' ', 'A', 'a', 'm', 'a', 'n', 'a', 'P', ' ', ':', 'l', 'a', 'n', 'a', 'c', ' ', 'a', ' ', ',', 'n', 'a', 'l', 'p', ' ', 'a', ' ', ',', 'n', 'a', 'm']\n"
     ]
    }
   ],
   "source": [
    "print(str1)\n",
    "reverseString(str1)\n",
    "print(str1)"
   ]
  },
  {
   "cell_type": "code",
   "execution_count": 440,
   "metadata": {},
   "outputs": [],
   "source": [
    "x = []\n",
    "for c in range(100,110):\n",
    "    x.append(chr(c))\n",
    "x*=10000000"
   ]
  },
  {
   "cell_type": "code",
   "execution_count": 441,
   "metadata": {},
   "outputs": [
    {
     "data": {
      "text/plain": [
       "15.864216327667236"
      ]
     },
     "execution_count": 441,
     "metadata": {},
     "output_type": "execute_result"
    }
   ],
   "source": [
    "prev = time.time()\n",
    "reverseString1(x)\n",
    "now = time.time()\n",
    "now-prev"
   ]
  },
  {
   "cell_type": "code",
   "execution_count": 442,
   "metadata": {},
   "outputs": [
    {
     "data": {
      "text/plain": [
       "0.07206535339355469"
      ]
     },
     "execution_count": 442,
     "metadata": {},
     "output_type": "execute_result"
    }
   ],
   "source": [
    "prev = time.time()\n",
    "reverseString2(x)\n",
    "now = time.time()\n",
    "now-prev"
   ]
  },
  {
   "cell_type": "markdown",
   "metadata": {},
   "source": [
    "### Chap 3 로그 파일 재정렬"
   ]
  },
  {
   "cell_type": "code",
   "execution_count": null,
   "metadata": {},
   "outputs": [],
   "source": [
    "# 로그 재정렬\n",
    "# 1. 로그의 가장 앞 부분은 식별자.\n",
    "# 2. 문자로 구성된 로그가 숫자 로그보다 앞에 온다.\n",
    "# 3. 식별자는 순서에 영향을 끼치지 않지만, 문자가 동일할 경우 식별자 순으로 한다.\n",
    "# 4. 숫자 로그는 입력 순서대로 한다.\n",
    "\n",
    "# logs = [\"dig1 8 1 5 1\", \"let1 art can\", \"dig2 3 6\", \"let2 own kit dig\", \"let3 art zero\"]\n",
    "# [\"let1 art can\", \"let3 art zero\", \"let2 own kit dig\", \"dig1 8 1 5 1\", \"dig2 3 6\"]"
   ]
  },
  {
   "cell_type": "code",
   "execution_count": 448,
   "metadata": {},
   "outputs": [],
   "source": [
    "# 풀이 1\n",
    "def reorderLogFiles(logs: List[str]) -> List[str]:\n",
    "    letters, digits = [], []\n",
    "    for log in logs:\n",
    "        if log.split()[1].isdigit():\n",
    "            digits.append(log)\n",
    "        else:\n",
    "            letters.append(log)\n",
    "            \n",
    "    letters.sort(key=lambda x: (x.split()[1:], x.split()[0]))\n",
    "    # 'art can', 'art zero' 같이 [1:] 에 대하여 정렬 후,\n",
    "    # 똑같이 art 로 시작하면 [0]인 let1 let3 순으로 정렬\n",
    "    return letters + digits"
   ]
  },
  {
   "cell_type": "code",
   "execution_count": 449,
   "metadata": {},
   "outputs": [],
   "source": [
    "logs = [\"dig1 8 1 5 1\", \"let1 art can\", \"dig2 3 6\", \"let2 own kit dig\", \"let3 art zero\"]"
   ]
  },
  {
   "cell_type": "code",
   "execution_count": 450,
   "metadata": {},
   "outputs": [
    {
     "data": {
      "text/plain": [
       "['let1 art can',\n",
       " 'let3 art zero',\n",
       " 'let2 own kit dig',\n",
       " 'dig1 8 1 5 1',\n",
       " 'dig2 3 6']"
      ]
     },
     "execution_count": 450,
     "metadata": {},
     "output_type": "execute_result"
    }
   ],
   "source": [
    "reorderLogFiles(logs)"
   ]
  },
  {
   "cell_type": "code",
   "execution_count": 453,
   "metadata": {},
   "outputs": [
    {
     "name": "stdout",
     "output_type": "stream",
     "text": [
      "['1 A', '1 B', '2 A', '4 C']\n",
      "['1 A', '2 A', '1 B', '4 C']\n"
     ]
    }
   ],
   "source": [
    "s = ['2 A', '1 B', '4 C', '1 A']\n",
    "print(sorted(s))\n",
    "s.sort(key=lambda x: (x.split()[1], x.split()[0]))\n",
    "print(s)"
   ]
  },
  {
   "cell_type": "markdown",
   "metadata": {},
   "source": [
    "### Chap 4 가장 흔한 단어"
   ]
  },
  {
   "cell_type": "code",
   "execution_count": null,
   "metadata": {},
   "outputs": [],
   "source": [
    "# 금지된 단어를 제외한 가장 흔하게 등장하는 단어를 출력하라. 대소문자 구분을 하지 않으며,\n",
    "# 구두점 또한 무시한다.\n",
    "# 입력\n",
    "# paragraph = \"Bob hit a ball, the hit BALL flew far after it was hit\"\n",
    "# banned = [\"hit\"]\n",
    "\n",
    "# 출력\n",
    "# \"ball\""
   ]
  },
  {
   "cell_type": "code",
   "execution_count": 538,
   "metadata": {},
   "outputs": [
    {
     "name": "stdout",
     "output_type": "stream",
     "text": [
      "bob hit a ball the hit ball flew far after it was hit\n"
     ]
    },
    {
     "data": {
      "text/plain": [
       "['bob', 'a', 'ball', 'the', 'ball', 'flew', 'far', 'after', 'it', 'was']"
      ]
     },
     "execution_count": 538,
     "metadata": {},
     "output_type": "execute_result"
    }
   ],
   "source": [
    "x = \"Bob hit a ball, the hit BALL flew far after it was hit\"\n",
    "x = x.lower()\n",
    "x = re.sub('[^a-z0-9 ]', '', x)\n",
    "print(x)\n",
    "x = re.sub('hit', '', x)\n",
    "x = x.split()\n",
    "x"
   ]
  },
  {
   "cell_type": "code",
   "execution_count": 484,
   "metadata": {},
   "outputs": [
    {
     "data": {
      "text/plain": [
       "Counter({'bob': 1,\n",
       "         'a': 1,\n",
       "         'ball': 2,\n",
       "         'the': 1,\n",
       "         'flew': 1,\n",
       "         'far': 1,\n",
       "         'after': 1,\n",
       "         'it': 1,\n",
       "         'was': 1})"
      ]
     },
     "execution_count": 484,
     "metadata": {},
     "output_type": "execute_result"
    }
   ],
   "source": [
    "c = collections.Counter(x)\n",
    "c"
   ]
  },
  {
   "cell_type": "code",
   "execution_count": 521,
   "metadata": {},
   "outputs": [
    {
     "data": {
      "text/plain": [
       "[('ball', 2),\n",
       " ('bob', 1),\n",
       " ('a', 1),\n",
       " ('the', 1),\n",
       " ('flew', 1),\n",
       " ('far', 1),\n",
       " ('after', 1),\n",
       " ('it', 1),\n",
       " ('was', 1)]"
      ]
     },
     "execution_count": 521,
     "metadata": {},
     "output_type": "execute_result"
    }
   ],
   "source": [
    "c.most_common()"
   ]
  },
  {
   "cell_type": "code",
   "execution_count": null,
   "metadata": {},
   "outputs": [],
   "source": [
    "c."
   ]
  },
  {
   "cell_type": "code",
   "execution_count": 542,
   "metadata": {},
   "outputs": [],
   "source": [
    "def my_mostfreqVocab(p: str, b: List[str]) -> str:\n",
    "    p = p.lower()\n",
    "    p = re.sub('[^a-z0-9 ]', '', p)\n",
    "    for ban in b:\n",
    "        p = re.sub(ban, '', p)\n",
    "    p = p.split()\n",
    "    counter = collections.Counter(p)\n",
    "    return counter.most_common()[0][0]"
   ]
  },
  {
   "cell_type": "code",
   "execution_count": 543,
   "metadata": {},
   "outputs": [],
   "source": [
    "paragraph = \"Bob hit a ball, the hit BALL flew far after it was hit\"\n",
    "banned = [\"hit\"]"
   ]
  },
  {
   "cell_type": "code",
   "execution_count": 544,
   "metadata": {},
   "outputs": [
    {
     "data": {
      "text/plain": [
       "'ball'"
      ]
     },
     "execution_count": 544,
     "metadata": {},
     "output_type": "execute_result"
    }
   ],
   "source": [
    "my_mostfreqVocab(p=paragraph, b=banned)"
   ]
  },
  {
   "cell_type": "code",
   "execution_count": 545,
   "metadata": {},
   "outputs": [],
   "source": [
    "# 풀이 1\n",
    "def mostCommonWord(paragraph: str, banned: List[str]) -> str:\n",
    "    words = [word for word in re.sub(r'[^\\w]', ' ', paragraph)\n",
    "    .lower().split() if word not in banned]\n",
    "    \n",
    "    counts = collections.Counter(words)\n",
    "    return counts.most_common()[0][0]"
   ]
  },
  {
   "cell_type": "code",
   "execution_count": 547,
   "metadata": {},
   "outputs": [
    {
     "data": {
      "text/plain": [
       "'ball'"
      ]
     },
     "execution_count": 547,
     "metadata": {},
     "output_type": "execute_result"
    }
   ],
   "source": [
    "paragraph = \"Bob hit a ball, the hit BALL flew far after it was hit\"\n",
    "banned = [\"hit\"]\n",
    "mostCommonWord(paragraph, banned)"
   ]
  },
  {
   "cell_type": "code",
   "execution_count": null,
   "metadata": {},
   "outputs": [],
   "source": [
    "# defaultdict 이용해도 됨.\n",
    "counts = collections.defaultdict(int)\n",
    "for word in words:\n",
    "    counts[word] += 1"
   ]
  },
  {
   "cell_type": "code",
   "execution_count": 549,
   "metadata": {},
   "outputs": [
    {
     "data": {
      "text/plain": [
       "['Bob',\n",
       " 'hit',\n",
       " 'a',\n",
       " 'ball',\n",
       " 'the',\n",
       " 'hit',\n",
       " 'BALL',\n",
       " 'flew',\n",
       " 'far',\n",
       " 'after',\n",
       " 'it',\n",
       " 'was',\n",
       " 'hit']"
      ]
     },
     "execution_count": 549,
     "metadata": {},
     "output_type": "execute_result"
    }
   ],
   "source": [
    "x = re.sub(r'[^\\w]', ' ', paragraph)\n",
    "x.split()"
   ]
  },
  {
   "cell_type": "markdown",
   "metadata": {},
   "source": [
    "### Chap 5 그룹 애너그램"
   ]
  },
  {
   "cell_type": "code",
   "execution_count": 2,
   "metadata": {},
   "outputs": [],
   "source": [
    "# 문자열 배열을 받아 애너그램 단위로 그루핑하라\n",
    "\n",
    "# 입력 : ['eat', 'tea', 'tan', 'ate', 'nat', 'bat']\n",
    "# 출력 : [\n",
    "#            ['ate','eat','tea',],\n",
    "#            ['nat','tan'],\n",
    "#            ['bat']\n",
    "#        ]"
   ]
  },
  {
   "cell_type": "code",
   "execution_count": 73,
   "metadata": {},
   "outputs": [],
   "source": [
    "words = ['eat', 'tea', 'tan', 'ate', 'nat', 'bat']"
   ]
  },
  {
   "cell_type": "code",
   "execution_count": 25,
   "metadata": {},
   "outputs": [
    {
     "data": {
      "text/plain": [
       "3"
      ]
     },
     "execution_count": 25,
     "metadata": {},
     "output_type": "execute_result"
    }
   ],
   "source": [
    "len('eat')"
   ]
  },
  {
   "cell_type": "code",
   "execution_count": 36,
   "metadata": {},
   "outputs": [
    {
     "data": {
      "text/plain": [
       "{1: 'a'}"
      ]
     },
     "execution_count": 36,
     "metadata": {},
     "output_type": "execute_result"
    }
   ],
   "source": [
    "x = {1 : 'a'}\n",
    "x"
   ]
  },
  {
   "cell_type": "code",
   "execution_count": 84,
   "metadata": {},
   "outputs": [],
   "source": [
    "import collections\n",
    "from typing import List\n",
    "\n",
    "def devide_by_length(words: List[str]) -> list:\n",
    "    count_length = {}\n",
    "    for word in words:\n",
    "        if len(word) not in count_length:\n",
    "            count_length[len(word)] = [word]\n",
    "        else:\n",
    "            count_length[len(word)].append(word)\n",
    "    \n",
    "    return count_length\n",
    "\n",
    "\n",
    "def count_alphabet(string: str) -> dict:\n",
    "    string = list(string)\n",
    "    counts = collections.defaultdict(int)\n",
    "    for s in string:\n",
    "        counts[s] += 1\n",
    "    return counts\n",
    "\n",
    "\n",
    "def anagram(words: List[str]) -> list:\n",
    "    anagrams = {}\n",
    "    temp = []\n",
    "    for i, word in enumerate(words):\n",
    "        if i in temp:\n",
    "            continue\n",
    "        temp = []\n",
    "        if word not in anagrams:\n",
    "            anagrams[word] = [word]\n",
    "        for j, other_word in enumerate(words[i+1:]):\n",
    "            if (sorted(word) == sorted(other_word)):\n",
    "                anagrams[word].append(other_word)\n",
    "                temp.append(j+1)\n",
    "    return anagrams\n",
    "\n",
    "def anagram(words: List[str]) -> list:\n",
    "    anagrams = {}\n",
    "    for i, word in enumerate(words[:]):\n",
    "        if word not in anagrams:\n",
    "            anagrams[word] = [word]\n",
    "        for other_word in words[i+1:]:\n",
    "            if (sorted(word) == sorted(other_word)):\n",
    "                anagrams[word].append(other_word)\n",
    "                \n",
    "    return anagrams"
   ]
  },
  {
   "cell_type": "code",
   "execution_count": 85,
   "metadata": {},
   "outputs": [],
   "source": [
    "words = ['eat', 'tea', 'tan', 'ate', 'nat', 'bat']"
   ]
  },
  {
   "cell_type": "code",
   "execution_count": 86,
   "metadata": {},
   "outputs": [
    {
     "data": {
      "text/plain": [
       "{'eat': ['eat', 'tea', 'ate'],\n",
       " 'tan': ['tan', 'nat'],\n",
       " 'ate': ['ate'],\n",
       " 'nat': ['nat'],\n",
       " 'bat': ['bat']}"
      ]
     },
     "execution_count": 86,
     "metadata": {},
     "output_type": "execute_result"
    }
   ],
   "source": [
    "anagram(words)"
   ]
  },
  {
   "cell_type": "code",
   "execution_count": 96,
   "metadata": {},
   "outputs": [],
   "source": [
    "def groupAnagrams(strs: List[str]) -> List[List[str]]:\n",
    "    anagrams = collections.defaultdict(list)\n",
    "    \n",
    "    for word in strs:\n",
    "        anagrams[''.join(sorted(word))].append(word)\n",
    "    return anagrams.values()"
   ]
  },
  {
   "cell_type": "code",
   "execution_count": 97,
   "metadata": {},
   "outputs": [
    {
     "data": {
      "text/plain": [
       "dict_values([['eat', 'tea', 'ate'], ['tan', 'nat'], ['bat']])"
      ]
     },
     "execution_count": 97,
     "metadata": {},
     "output_type": "execute_result"
    }
   ],
   "source": [
    "words = ['eat', 'tea', 'tan', 'ate', 'nat', 'bat']\n",
    "groupAnagrams(words)"
   ]
  },
  {
   "cell_type": "code",
   "execution_count": 1,
   "metadata": {},
   "outputs": [
    {
     "data": {
      "text/plain": [
       "['abc', 'cfc', 'cde']"
      ]
     },
     "execution_count": 1,
     "metadata": {},
     "output_type": "execute_result"
    }
   ],
   "source": [
    "# 정렬(sort)할 때, key를 줄 수 있음\n",
    "a = ['cde', 'cfc', 'abc']\n",
    "sorted(a, key=lambda s: (s[0], s[-1]))"
   ]
  },
  {
   "cell_type": "markdown",
   "metadata": {},
   "source": [
    "### Chap 6 가장 긴 팰린드롬 부분 문자열"
   ]
  },
  {
   "cell_type": "code",
   "execution_count": null,
   "metadata": {},
   "outputs": [],
   "source": [
    "# 가장 긴 팰린드롬 부분 문자열을 출력하라.\n",
    "# 입력 : \"babad\"\n",
    "# 출력 : \"bab\""
   ]
  },
  {
   "cell_type": "code",
   "execution_count": null,
   "metadata": {},
   "outputs": [],
   "source": [
    "x = ['abc', 'de']"
   ]
  },
  {
   "cell_type": "code",
   "execution_count": 7,
   "metadata": {},
   "outputs": [],
   "source": [
    "def longestPalindrome(s:str) -> str:\n",
    "    # 펠린드롬 판별 및 투 포인터 확장\n",
    "    def expand(left: int, right:int) -> str:\n",
    "        while left >=0 and right <= len(s)-1 and s[left] == s[right]:\n",
    "            left -= 1\n",
    "            right += 1\n",
    "        return s[left+1:right]\n",
    "        \n",
    "    # 해당 사항 없을 때 빠르게 리턴 (문장길이가 1이하이거나 문장 전체가 펠린드롬일 때)\n",
    "    if len(s) < 2 or s==s[::-1]:\n",
    "        return s\n",
    "    \n",
    "    result = ''\n",
    "    \n",
    "    # 슬라이딩 윈도우 우측으로 이동\n",
    "    for i in range(len(s)-1):\n",
    "        result = max(result, expand(i, i), expand(i, i+1), key=len) # (i,i) : 홀수, (i,i+1) : 짝수\n",
    "        \n",
    "    return result"
   ]
  },
  {
   "cell_type": "code",
   "execution_count": 8,
   "metadata": {},
   "outputs": [
    {
     "data": {
      "text/plain": [
       "'bab'"
      ]
     },
     "execution_count": 8,
     "metadata": {},
     "output_type": "execute_result"
    }
   ],
   "source": [
    "longestPalindrome(\"babad\")"
   ]
  }
 ],
 "metadata": {
  "kernelspec": {
   "display_name": "Python 3",
   "language": "python",
   "name": "python3"
  },
  "language_info": {
   "codemirror_mode": {
    "name": "ipython",
    "version": 3
   },
   "file_extension": ".py",
   "mimetype": "text/x-python",
   "name": "python",
   "nbconvert_exporter": "python",
   "pygments_lexer": "ipython3",
   "version": "3.7.6"
  }
 },
 "nbformat": 4,
 "nbformat_minor": 4
}
