{
 "cells": [
  {
   "cell_type": "markdown",
   "metadata": {},
   "source": [
    "# 선형 자료구조"
   ]
  },
  {
   "cell_type": "markdown",
   "metadata": {},
   "source": [
    "데이터 요소가 sequential하게 배열되는 자료구조를 선형구조라고 한다.\\\n",
    "배열, 스택, 큐, 연결 리스트 등이 모두 선형 자료구조에 속한다."
   ]
  },
  {
   "cell_type": "markdown",
   "metadata": {},
   "source": [
    "### 배열"
   ]
  },
  {
   "cell_type": "markdown",
   "metadata": {},
   "source": [
    "자료구조는 크게 메모리 공간 기반의 연속(Contiguous)방식과 포인터 기반의 연결(Link)방식으로 나뉜다.\\\n",
    "**배열**은 이 중 연속 방식의 가장 기본이 되는 자료형이다.\\\n",
    "연결 방식의 가장 기본이 되는 자료형은 '연결 리스트'이다.\\\n",
    "**배열** 은 크기를 지정하고 해당 크기만큼의 연속된 메모리 공간을 할당받는 작업을 수행하는 자료형을 말한다.\\\n",
    "고정된 크기만큼의 할당하면 부족하거나 낭비될 수 있다. 그래서 동적 배열이 등장했다.\\\n",
    "동적배열의 원리는 미리 초기값을 작게 잡아 배열을 생성한 후, 꽉 차면 늘려주고 모두 복사하는 식이다.(Doubling)\\\n",
    "그러나 더블링이 필요한 만큼 공간이 차면 새롭게 더 큰 배열을 할당하므로 O(n) 비용이 발생한다.\\\n",
    "즉 최악의 경우 삽입 시 O(n)이 되지만 자주 일어나는 일은 아니므로, 분할 상환 분석에 따른 입력시간 (Amortized Insertion Time)은 여전히 O(1)이다."
   ]
  },
  {
   "cell_type": "markdown",
   "metadata": {},
   "source": [
    "### 두 수의 합"
   ]
  },
  {
   "cell_type": "markdown",
   "metadata": {},
   "source": [
    "덧셈하여 타겟을 만들 수 있는 배열의 두 숫자 인덱스를 리턴하라\\\n",
    "입력 : nums = [2, 7, 11, 15], target = 9\\\n",
    "출력 : [0,1]"
   ]
  },
  {
   "cell_type": "code",
   "execution_count": 18,
   "metadata": {},
   "outputs": [],
   "source": [
    "from typing import List"
   ]
  },
  {
   "cell_type": "code",
   "execution_count": 23,
   "metadata": {},
   "outputs": [],
   "source": [
    "def Brute_Force(nums:List[int], target:int) -> List[int]:\n",
    "    \n",
    "    indx = []\n",
    "    for i in range(len(nums)):\n",
    "        for j in range(len(nums)-1):\n",
    "            if nums[i]+nums[j+1]==target:\n",
    "                indx.append([i,j+1])\n",
    "    return indx"
   ]
  },
  {
   "cell_type": "code",
   "execution_count": 29,
   "metadata": {},
   "outputs": [
    {
     "data": {
      "text/plain": [
       "[[0, 1]]"
      ]
     },
     "execution_count": 29,
     "metadata": {},
     "output_type": "execute_result"
    }
   ],
   "source": [
    "nums = [2, 7, 11, 15]\n",
    "target = 9\n",
    "result = Brute_Force(nums,target)\n",
    "result"
   ]
  },
  {
   "cell_type": "markdown",
   "metadata": {},
   "source": [
    "이 경우 시간 복잡도는 $O(n^2)$이다."
   ]
  },
  {
   "cell_type": "code",
   "execution_count": 38,
   "metadata": {},
   "outputs": [
    {
     "data": {
      "text/plain": [
       "[1, 3]"
      ]
     },
     "execution_count": 38,
     "metadata": {},
     "output_type": "execute_result"
    }
   ],
   "source": [
    "x"
   ]
  },
  {
   "cell_type": "code",
   "execution_count": 45,
   "metadata": {},
   "outputs": [],
   "source": [
    "def two_sum(nums:List[int], target:int) -> List[int]:\n",
    "    \n",
    "    indx = []\n",
    "    \n",
    "    for i in range(len(nums)):\n",
    "        snum = target-nums[i]\n",
    "        if snum in nums[i+1:]:\n",
    "            indx.append([i,nums.index(snum)])\n",
    "    return indx"
   ]
  },
  {
   "cell_type": "code",
   "execution_count": 46,
   "metadata": {},
   "outputs": [
    {
     "data": {
      "text/plain": [
       "[[0, 1]]"
      ]
     },
     "execution_count": 46,
     "metadata": {},
     "output_type": "execute_result"
    }
   ],
   "source": [
    "nums = [2, 7, 11, 15]\n",
    "target = 9\n",
    "result = two_sum(nums,target)\n",
    "result"
   ]
  },
  {
   "cell_type": "code",
   "execution_count": 48,
   "metadata": {},
   "outputs": [],
   "source": [
    "# 답안\n",
    "def twoSum(nums:List[int], target:int) -> List[int]:\n",
    "    for i, n in enumerate(nums):\n",
    "        complement = target-n\n",
    "        \n",
    "        if complement in nums[i+1:]:\n",
    "            return nums.index(n), nums[i+1:].index(complement)+(i+1)"
   ]
  },
  {
   "cell_type": "code",
   "execution_count": 49,
   "metadata": {},
   "outputs": [
    {
     "data": {
      "text/plain": [
       "(0, 1)"
      ]
     },
     "execution_count": 49,
     "metadata": {},
     "output_type": "execute_result"
    }
   ],
   "source": [
    "result = twoSum(nums,target)\n",
    "result"
   ]
  },
  {
   "cell_type": "code",
   "execution_count": 72,
   "metadata": {},
   "outputs": [],
   "source": [
    "import random\n",
    "nums=random.sample(range(100),80)"
   ]
  },
  {
   "cell_type": "code",
   "execution_count": 102,
   "metadata": {},
   "outputs": [
    {
     "name": "stdout",
     "output_type": "stream",
     "text": [
      "0 0\n",
      "[[3, 43], [9, 75], [15, 30], [17, 63], [23, 33]] (3, 43)\n"
     ]
    }
   ],
   "source": [
    "import datetime\n",
    "import random\n",
    "\n",
    "nums=random.sample(range(100),80)\n",
    "target=9\n",
    "\n",
    "start = datetime.datetime.now()\n",
    "result1 = two_sum(nums,target)\n",
    "end = datetime.datetime.now()\n",
    "\n",
    "time1 = end - start\n",
    "time1 = time1.microseconds\n",
    "\n",
    "start = datetime.datetime.now()\n",
    "result2 = twoSum(nums,target)\n",
    "end = datetime.datetime.now()\n",
    "\n",
    "time2 = end - start\n",
    "time2 = time2.microseconds\n",
    "\n",
    "print(time1, time2)\n",
    "print(result1, result2)"
   ]
  },
  {
   "cell_type": "code",
   "execution_count": 103,
   "metadata": {},
   "outputs": [],
   "source": [
    "# 두 번째 답안\n",
    "def twoSum(nums:List[int], target:int) -> List[int]:\n",
    "    nums_map = {}\n",
    "    for i, num in enumerate(nums):\n",
    "        nums_map[num] = i\n",
    "        \n",
    "    for i, num in enumerate(nums):\n",
    "        if target - num in nums_map and i != nums_map[target-num]:\n",
    "            return nums.index(num), nums_map[target-num]\n",
    "        \n",
    "# 중복된 원소가 있는 리스트에는 적용하지 못할 것 같음."
   ]
  },
  {
   "cell_type": "code",
   "execution_count": 108,
   "metadata": {},
   "outputs": [],
   "source": [
    "# 세 번째 답안\n",
    "def twoSum(nums:List[int], target:int) -> List[int]:\n",
    "    nums_map = {}\n",
    "    # 하나의 for 문으로 통합\n",
    "    for i, num in enumerate(nums):\n",
    "        if target-num in nums_map:\n",
    "            return [nums_map[target-num],i]\n",
    "        nums_map[num] = i"
   ]
  },
  {
   "cell_type": "code",
   "execution_count": 109,
   "metadata": {},
   "outputs": [
    {
     "data": {
      "text/plain": [
       "[0, 1]"
      ]
     },
     "execution_count": 109,
     "metadata": {},
     "output_type": "execute_result"
    }
   ],
   "source": [
    "nums = [2, 7, 11, 15]\n",
    "target = 9\n",
    "result = twoSum(nums,target)\n",
    "result"
   ]
  },
  {
   "cell_type": "code",
   "execution_count": 110,
   "metadata": {},
   "outputs": [],
   "source": [
    "# 네 번째 답안 (투 포인터 이용, 정렬 필요)\n",
    "def twoSum(nums:List[int], target:int) -> List[int]:\n",
    "        \n",
    "    left, right = 0, len(nums)-1\n",
    "    while not left == right:\n",
    "        if nums[left]+nums[right] < target:\n",
    "            left += 1\n",
    "        elif nums[left]+nums[right] > target:\n",
    "            right += 1\n",
    "        else:\n",
    "            return left, right\n",
    "        \n",
    "# 정렬하면 인덱스 꼬여서 사용못함..(?)"
   ]
  },
  {
   "cell_type": "code",
   "execution_count": null,
   "metadata": {},
   "outputs": [],
   "source": []
  }
 ],
 "metadata": {
  "kernelspec": {
   "display_name": "Python 3",
   "language": "python",
   "name": "python3"
  },
  "language_info": {
   "codemirror_mode": {
    "name": "ipython",
    "version": 3
   },
   "file_extension": ".py",
   "mimetype": "text/x-python",
   "name": "python",
   "nbconvert_exporter": "python",
   "pygments_lexer": "ipython3",
   "version": "3.7.6"
  }
 },
 "nbformat": 4,
 "nbformat_minor": 4
}
