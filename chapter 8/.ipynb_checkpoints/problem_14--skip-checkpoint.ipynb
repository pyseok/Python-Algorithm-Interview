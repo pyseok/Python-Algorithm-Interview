{
 "cells": [
  {
   "cell_type": "markdown",
   "metadata": {},
   "source": [
    "# 두 정렬 리스트의 병합"
   ]
  },
  {
   "cell_type": "markdown",
   "metadata": {},
   "source": [
    "정렬되어 있는 두 연결리스트를 합쳐라\n",
    "\n",
    "입력 : 1->2->4, 1->3->4\\\n",
    "출력 : 1->1->2->3->4->4"
   ]
  },
  {
   "cell_type": "code",
   "execution_count": 1,
   "metadata": {},
   "outputs": [],
   "source": [
    "import sys\n",
    "sys.path.append('../')\n",
    "from LinkedList import Node, SinglyLinkedList"
   ]
  },
  {
   "cell_type": "code",
   "execution_count": 35,
   "metadata": {},
   "outputs": [],
   "source": [
    "llist1 = SinglyLinkedList()\n",
    "llist1.append(Node(1))\n",
    "llist1.append(Node(2))\n",
    "llist1.append(Node(4))\n",
    "llist2 = SinglyLinkedList()\n",
    "llist2.append(Node(1))\n",
    "llist2.append(Node(3))\n",
    "llist2.append(Node(4))"
   ]
  },
  {
   "cell_type": "code",
   "execution_count": 36,
   "metadata": {},
   "outputs": [
    {
     "name": "stdout",
     "output_type": "stream",
     "text": [
      "1->2->4\n"
     ]
    }
   ],
   "source": [
    "llist1.print()"
   ]
  },
  {
   "cell_type": "code",
   "execution_count": 4,
   "metadata": {},
   "outputs": [
    {
     "data": {
      "text/plain": [
       "['append',\n",
       " 'clear',\n",
       " 'deleteAtIndex',\n",
       " 'getdataIndex',\n",
       " 'insertNodeAtData',\n",
       " 'insertNodeAtIndex',\n",
       " 'print']"
      ]
     },
     "execution_count": 4,
     "metadata": {},
     "output_type": "execute_result"
    }
   ],
   "source": [
    "dir(SinglyLinkedList)[-7:]"
   ]
  },
  {
   "cell_type": "code",
   "execution_count": 21,
   "metadata": {},
   "outputs": [
    {
     "data": {
      "text/plain": [
       "<LinkedList.SinglyLinkedList at 0x2440dd15408>"
      ]
     },
     "execution_count": 21,
     "metadata": {},
     "output_type": "execute_result"
    }
   ],
   "source": [
    "llist1"
   ]
  },
  {
   "cell_type": "code",
   "execution_count": 27,
   "metadata": {},
   "outputs": [],
   "source": [
    "list1 , list2 = [], []\n",
    "for i in range(llist1.count):\n",
    "    list1.append(llist1.head.data)\n",
    "    llist1.head = llist1.head.next\n",
    "    \n",
    "for i in range(llist2.count):\n",
    "    list2.append(llist2.head.data)\n",
    "    llist2.head = llist2.head.next"
   ]
  },
  {
   "cell_type": "code",
   "execution_count": 28,
   "metadata": {},
   "outputs": [
    {
     "data": {
      "text/plain": [
       "[1, 1, 2, 3, 4, 4]"
      ]
     },
     "execution_count": 28,
     "metadata": {},
     "output_type": "execute_result"
    }
   ],
   "source": [
    "new_list=list1+list2\n",
    "new_list.sort()\n",
    "new_list"
   ]
  },
  {
   "cell_type": "code",
   "execution_count": 29,
   "metadata": {},
   "outputs": [],
   "source": [
    "new_llist = SinglyLinkedList()\n",
    "for i in new_list:\n",
    "    new_llist.append(Node(i))"
   ]
  },
  {
   "cell_type": "code",
   "execution_count": 30,
   "metadata": {},
   "outputs": [
    {
     "name": "stdout",
     "output_type": "stream",
     "text": [
      "1->1->2->3->4->4\n"
     ]
    }
   ],
   "source": [
    "new_llist.print()"
   ]
  },
  {
   "cell_type": "markdown",
   "metadata": {},
   "source": [
    "### 풀이"
   ]
  },
  {
   "cell_type": "markdown",
   "metadata": {},
   "source": [
    "1번째 연결리스트를 쭉 진행하면서, 2번째 연결리스트의 노드 중 1번째 연결리스트보다 큰 게 있는지 체크하다가 있으면중간중간에 끼워넣는 방식"
   ]
  },
  {
   "cell_type": "code",
   "execution_count": 112,
   "metadata": {},
   "outputs": [],
   "source": [
    "class mergelist():\n",
    "    \n",
    "    @classmethod\n",
    "    def mergeTwoLists(self, l1: Node, l2:Node) -> Node:\n",
    "        if (not l1) or (l2 and (l1.data > l2.data)):\n",
    "            l1, l2 = l2, l1\n",
    "        if l1:\n",
    "            l1.next = self.mergeTwoLists(l1.next, l2)\n",
    "            \n",
    "        return l1"
   ]
  },
  {
   "cell_type": "code",
   "execution_count": 113,
   "metadata": {},
   "outputs": [],
   "source": [
    "node1 = Node(1)\n",
    "node1_2 = Node(2)\n",
    "node1_3 = Node(4)\n",
    "node1.next = node1_2\n",
    "node1_2.next = node1_3\n",
    "\n",
    "node2 = Node(1)\n",
    "node2_2 = Node(3)\n",
    "node2_3 = Node(4)\n",
    "node2.next = node2_2\n",
    "node2_2.next = node2_3"
   ]
  },
  {
   "cell_type": "code",
   "execution_count": 114,
   "metadata": {},
   "outputs": [
    {
     "name": "stdout",
     "output_type": "stream",
     "text": [
      "1\n",
      "1\n",
      "2\n",
      "3\n",
      "4\n",
      "4\n"
     ]
    }
   ],
   "source": [
    "new_nodes = mergelist.mergeTwoLists(node1, node2)\n",
    "\n",
    "for i in range(6):\n",
    "    print(new_nodes.data)\n",
    "    new_nodes = new_nodes.next"
   ]
  },
  {
   "cell_type": "code",
   "execution_count": null,
   "metadata": {},
   "outputs": [],
   "source": []
  }
 ],
 "metadata": {
  "kernelspec": {
   "display_name": "Python 3",
   "language": "python",
   "name": "python3"
  },
  "language_info": {
   "codemirror_mode": {
    "name": "ipython",
    "version": 3
   },
   "file_extension": ".py",
   "mimetype": "text/x-python",
   "name": "python",
   "nbconvert_exporter": "python",
   "pygments_lexer": "ipython3",
   "version": "3.7.6"
  }
 },
 "nbformat": 4,
 "nbformat_minor": 4
}
