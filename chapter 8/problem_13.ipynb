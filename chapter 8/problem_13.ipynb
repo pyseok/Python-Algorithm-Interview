{
 "cells": [
  {
   "cell_type": "markdown",
   "metadata": {},
   "source": [
    "# 연결 리스트"
   ]
  },
  {
   "cell_type": "markdown",
   "metadata": {},
   "source": [
    "### 팰린드롬 연결 리스트\n",
    "\n",
    "연결 리스트가 팰린드롬 구조인지 판별하라\\\n",
    "ex1)\\\n",
    "입력 : 1->2\\\n",
    "출력 : false\n",
    "\n",
    "ex2)\\\n",
    "입력 : 1->2->2->1\\\n",
    "출력 : True"
   ]
  },
  {
   "cell_type": "code",
   "execution_count": 7,
   "metadata": {},
   "outputs": [],
   "source": [
    "class ListNode:\n",
    "    def __init__(self, x):\n",
    "        self.val = x\n",
    "        self.next = None"
   ]
  },
  {
   "cell_type": "markdown",
   "metadata": {},
   "source": [
    "### 리스트 변환 이용"
   ]
  },
  {
   "cell_type": "code",
   "execution_count": 8,
   "metadata": {},
   "outputs": [],
   "source": [
    "def isPalindrome(head: ListNode) -> bool:\n",
    "    q: List = []\n",
    "    \n",
    "    if not head:\n",
    "        return True\n",
    "    \n",
    "    node = head\n",
    "    # 리스트 변환\n",
    "    \n",
    "    while node is not None:\n",
    "        q.append(node.val)\n",
    "        node = node.next\n",
    "        \n",
    "    while len(q) > 1:\n",
    "        if q.pop(0) != q.pop():\n",
    "            return False\n",
    "        \n",
    "    return True"
   ]
  },
  {
   "cell_type": "code",
   "execution_count": 48,
   "metadata": {},
   "outputs": [],
   "source": [
    "head = ListNode(1)\n",
    "node2 = ListNode(2)\n",
    "head.next = node2\n",
    "node3 = ListNode(2)\n",
    "node2.next = node3\n",
    "node4 = ListNode(1)\n",
    "node3.next = node4"
   ]
  },
  {
   "cell_type": "code",
   "execution_count": 23,
   "metadata": {},
   "outputs": [
    {
     "data": {
      "text/plain": [
       "True"
      ]
     },
     "execution_count": 23,
     "metadata": {},
     "output_type": "execute_result"
    }
   ],
   "source": [
    "isPalindrome(head)"
   ]
  },
  {
   "cell_type": "markdown",
   "metadata": {},
   "source": [
    "### 데크를 이용한 최적화"
   ]
  },
  {
   "cell_type": "markdown",
   "metadata": {},
   "source": [
    "if q.pop(0) != q.pop()\n",
    "-> q.pop(0) 에서 첫 번째 아이템을 추출할 때의 속도 문제.\n",
    "\n",
    "-> 동적 배열로 구성된 리스트는 맨 앞 아이템을 가져오기에 적합한 자료형이 아니다.\n",
    "\n",
    "    왜냐하면 첫 번째 값을 꺼내오면 모든 값이 한 칸씩 shifting되며, 시간 복잡도 O(n)이 발생하기 때문이다.\n",
    " \n",
    "-> Deque는 이중 연결 리스트 구조로 양쪽 방향 모두 추출하는 데 시간 복잡도 O(1)에 실행된다.\n",
    "\n",
    "    무엇보다 리스트를 데크로 수정하기 쉽다."
   ]
  },
  {
   "cell_type": "code",
   "execution_count": 35,
   "metadata": {},
   "outputs": [],
   "source": [
    "import collections\n",
    "\n",
    "def isPalindrome(head: ListNode) -> bool:\n",
    "    q: Deque = collections.deque()\n",
    "        \n",
    "    if not head:\n",
    "        return True\n",
    "    \n",
    "    node = head\n",
    "    while node is not None:\n",
    "        q.append(node.val)\n",
    "        node = node.next\n",
    "        \n",
    "    while len(q) > 1:\n",
    "        if q.popleft() != q.pop():\n",
    "            return False\n",
    "        \n",
    "    return True"
   ]
  },
  {
   "cell_type": "code",
   "execution_count": 36,
   "metadata": {},
   "outputs": [
    {
     "data": {
      "text/plain": [
       "True"
      ]
     },
     "execution_count": 36,
     "metadata": {},
     "output_type": "execute_result"
    }
   ],
   "source": [
    "isPalindrome(head)"
   ]
  },
  {
   "cell_type": "markdown",
   "metadata": {},
   "source": [
    "### 런너(Runner)를 이용한 풀이"
   ]
  },
  {
   "cell_type": "code",
   "execution_count": 74,
   "metadata": {},
   "outputs": [],
   "source": [
    "def isPalindrome(head: ListNode) ->bool:\n",
    "    rev = None\n",
    "    slow = fast = head\n",
    "    \n",
    "    while fast and fast.next: # (마지막과 마지막 이전이 아니면)\n",
    "        fast = fast.next.next\n",
    "        rev, rev.next, slow = slow, rev, slow.next\n",
    "#       아래와 같은 계산과정 압축        \n",
    "#         rev_new = slow\n",
    "#         rev_new.next = rev\n",
    "#         rev = rev_new\n",
    "#         slow = slow.next\n",
    "        \n",
    "    if fast: # length가 odd인 경우 slow는 한 칸 더 앞으로(정 중앙 지나서 다음칸으로)\n",
    "        slow = slow.next\n",
    "        \n",
    "    while rev and rev.val == slow.val:\n",
    "        slow, rev = slow.next, rev.next\n",
    "    \n",
    "    return not rev"
   ]
  },
  {
   "cell_type": "code",
   "execution_count": 92,
   "metadata": {},
   "outputs": [
    {
     "data": {
      "text/plain": [
       "True"
      ]
     },
     "execution_count": 92,
     "metadata": {},
     "output_type": "execute_result"
    }
   ],
   "source": [
    "isPalindrome(head)"
   ]
  },
  {
   "cell_type": "markdown",
   "metadata": {},
   "source": [
    "rev, rev.next, slow = slow, rev, slow.next 를\n",
    "\n",
    "rev, rev.next = slow, rev\\\n",
    "slow = slow.next\n",
    "\n",
    "이렇게 코딩하면\\\n",
    "파이썬의 특성 상, rev입장에선 위와 똑같이 되지만,\\\n",
    "rev = slow 때문에 slow가 참조하는 head를 rev도 참조하게 된다. 즉 똑같은 것을 참조하게 된다.\\\n",
    "완전히 다른 의미이기 때무에 주의 요망\n",
    "\n",
    "예를들면 rev = 1, slow = 2->3 일때, \\\n",
    "위의 표현은\\\n",
    "rev = 2->3, rev.next = 1, slow = 3 이 되고, rev.next = 1 이므로 최종적으로 rev = 2->1, slow = 3이 된다.\n",
    "\n",
    "그러나 아래의 표현은\\\n",
    "rev = 2->3, rev.next = 1 이므로 rev = 2->1까진 똑같은데, 여기서 rev = slow라는 부분 때문에 동일한 참조가 되서\\\n",
    "rev = 2->1 이므로 slow = 2->1가 된다.\\\n",
    "즉, slow가 참조하고 있던 ListNode 객체를 rev도 똑같이 참조하게 됐기 때문에, rev가 바뀌면 slow도 똑같이 바뀐다."
   ]
  },
  {
   "cell_type": "code",
   "execution_count": 114,
   "metadata": {},
   "outputs": [
    {
     "name": "stdout",
     "output_type": "stream",
     "text": [
      "rev : 2-> 1\n",
      "slow : 3\n"
     ]
    }
   ],
   "source": [
    "# rev=1, slow=2->3\n",
    "rev = ListNode(1)\n",
    "slow = ListNode(2)\n",
    "slow2 = ListNode(3)\n",
    "slow.next = slow2\n",
    "\n",
    "rev, rev.next, slow = slow, rev, slow.next\n",
    "print(f\"rev : {rev.val}-> {rev.next.val}\")\n",
    "print(f'slow : {slow.val}')"
   ]
  },
  {
   "cell_type": "code",
   "execution_count": 115,
   "metadata": {},
   "outputs": [
    {
     "name": "stdout",
     "output_type": "stream",
     "text": [
      "rev : 2-> 1\n",
      "slow : 1\n"
     ]
    }
   ],
   "source": [
    "# rev=1, slow=2->3\n",
    "rev = ListNode(1)\n",
    "slow = ListNode(2)\n",
    "slow2 = ListNode(3)\n",
    "slow.next = slow2\n",
    "\n",
    "rev, rev.next = slow, rev # rev=2->3 => rev=2->1 // slow=2->1\n",
    "slow = slow.next\n",
    "print(f\"rev : {rev.val}-> {rev.next.val}\")\n",
    "print(f'slow : {slow.val}')"
   ]
  },
  {
   "cell_type": "code",
   "execution_count": null,
   "metadata": {},
   "outputs": [],
   "source": []
  }
 ],
 "metadata": {
  "kernelspec": {
   "display_name": "Python 3",
   "language": "python",
   "name": "python3"
  },
  "language_info": {
   "codemirror_mode": {
    "name": "ipython",
    "version": 3
   },
   "file_extension": ".py",
   "mimetype": "text/x-python",
   "name": "python",
   "nbconvert_exporter": "python",
   "pygments_lexer": "ipython3",
   "version": "3.7.6"
  }
 },
 "nbformat": 4,
 "nbformat_minor": 4
}
