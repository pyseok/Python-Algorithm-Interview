{
 "cells": [
  {
   "cell_type": "markdown",
   "metadata": {},
   "source": [
    "연결 리스트에는 노드와 포인터가 있다.\\\n",
    "노드 : 데이터의 값과 포인터로 구성되어 있음.\\\n",
    "포인터 : 각각의 노드 안에서 다음 노드로 가거나 이전 노드와의 연결 정보를 가지고 있음.\n",
    "\n",
    "특징 : 삽입/삭제가 용이.\\\n",
    "      탐색 시간 긺.\\\n",
    "      데이터 추가 삭제가 많을 경우 연결 리스트가 유리, 검색/정렬을 자주할 땐 배열이 유리\\\n",
    "      중간 데이터를 삭제 할 때 앞 노드와 뒷 노드를 다시 연결해줘야하는 과정이 필요.\n",
    "      \n",
    "종류 :\\\n",
    "단일 연결 리스트 (singled linked list)\\\n",
    "이중 연결 리스트 (doubley linked list)\\\n",
    "원형 연결 리스트 (circular linked list)"
   ]
  },
  {
   "cell_type": "markdown",
   "metadata": {},
   "source": [
    "### 단일 연결 리스트 실습"
   ]
  },
  {
   "cell_type": "code",
   "execution_count": 7,
   "metadata": {},
   "outputs": [],
   "source": [
    "class Node:\n",
    "    def __init__(self, data, next=None):\n",
    "        self.data = data\n",
    "        self.next = next\n",
    "        \n",
    "        \n",
    "def add(data):\n",
    "    node = head\n",
    "    while node.next:\n",
    "        node = node.next\n",
    "    node.next = Node(data)"
   ]
  },
  {
   "cell_type": "code",
   "execution_count": 15,
   "metadata": {},
   "outputs": [
    {
     "data": {
      "text/plain": [
       "<__main__.Node at 0x23d5c737a08>"
      ]
     },
     "execution_count": 15,
     "metadata": {},
     "output_type": "execute_result"
    }
   ],
   "source": [
    "nodeStart.next"
   ]
  },
  {
   "cell_type": "code",
   "execution_count": 19,
   "metadata": {},
   "outputs": [],
   "source": [
    "# 노드 연결\n",
    "nodeStart = Node(\"head 시작\")\n",
    "head = nodeStart\n",
    "\n",
    "# 노드에 1~9까지 데이터 순서대로 추가\n",
    "for data in range(1,10):\n",
    "    add(data)\n",
    "    \n",
    "node = head # 연결된 노드들을 출력하기에 앞서 처음 시작한 head 부분을 알아야 검색 가능\n",
    "while node.next: # 노드의 포인터가 가리키는게 없어질 때까지 반복\n",
    "    print(node.data)\n",
    "    node = node.next\n",
    "print(node.data)"
   ]
  },
  {
   "cell_type": "markdown",
   "metadata": {},
   "source": [
    "### 응용\n",
    "각자 다른 두개의 head 노드를 생성하고 데이터를 삽입하여 각각의 head 노드 가리킬 때 어떤 값을 출력하는지 확인함."
   ]
  },
  {
   "cell_type": "code",
   "execution_count": 25,
   "metadata": {},
   "outputs": [
    {
     "name": "stdout",
     "output_type": "stream",
     "text": [
      "head 시작 1\n",
      "1\n",
      "2\n",
      "3\n",
      "4\n",
      "5\n",
      "6\n",
      "7\n",
      "8\n",
      "9\n",
      "-----------------\n",
      "head 시작 2\n",
      "10\n",
      "11\n",
      "12\n",
      "13\n",
      "14\n",
      "15\n",
      "16\n",
      "17\n",
      "18\n",
      "19\n",
      "-----------------\n",
      "head 시작 1\n",
      "1\n",
      "2\n",
      "3\n",
      "4\n",
      "5\n",
      "6\n",
      "7\n",
      "8\n",
      "9\n"
     ]
    }
   ],
   "source": [
    "class Node:\n",
    "    def __init__(self, data, next=None):\n",
    "        self.data = data\n",
    "        self.next = next\n",
    "        \n",
    "def add(head, data):\n",
    "    node = head\n",
    "    while node.next:\n",
    "        node = node.next\n",
    "    node.next = Node(data)\n",
    "    \n",
    "# 노드 연결 - test node 1\n",
    "nodeHead1 = Node(\"head 시작 1\")\n",
    "head1 = nodeHead1\n",
    "\n",
    "# 노드에 1~9까지 데이터를 순서대로 넣음\n",
    "for data in range(1,10):\n",
    "    add(head1, data)\n",
    "    \n",
    "# 노드 연결 - test node2\n",
    "nodeHead2 = Node(\"head 시작 2\")\n",
    "head2 = nodeHead2\n",
    "\n",
    "for data in range(10,20):\n",
    "    add(head2, data)\n",
    "    \n",
    "node = nodeHead1 # test node 1 연결 및 출력\n",
    "while node.next:\n",
    "    print(node.data)\n",
    "    node = node.next\n",
    "print(node.data)\n",
    "print('-----------------')\n",
    "\n",
    "node = nodeHead2 # test node 2 연결 및 출력\n",
    "while node.next:\n",
    "    print(node.data)\n",
    "    node = node.next\n",
    "print(node.data)\n",
    "print('-----------------')\n",
    "\n",
    "node = nodeHead1 # test node1 연결 및 출력\n",
    "while node.next:\n",
    "    print(node.data)\n",
    "    node = node.next\n",
    "print(node.data)"
   ]
  },
  {
   "cell_type": "code",
   "execution_count": null,
   "metadata": {},
   "outputs": [],
   "source": []
  }
 ],
 "metadata": {
  "kernelspec": {
   "display_name": "Python 3",
   "language": "python",
   "name": "python3"
  },
  "language_info": {
   "codemirror_mode": {
    "name": "ipython",
    "version": 3
   },
   "file_extension": ".py",
   "mimetype": "text/x-python",
   "name": "python",
   "nbconvert_exporter": "python",
   "pygments_lexer": "ipython3",
   "version": "3.7.6"
  }
 },
 "nbformat": 4,
 "nbformat_minor": 4
}
