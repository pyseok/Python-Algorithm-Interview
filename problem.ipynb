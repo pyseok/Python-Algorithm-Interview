{
 "cells": [
  {
   "cell_type": "markdown",
   "metadata": {},
   "source": [
    "# 세 수의 합\n",
    "배열을 입력받아 합으로 0을 만들 수 있는 3개의 엘리먼트를 출력하라.\\\n",
    "입력 : nums = [-1, 0, 1, 2, -1, -4]\\\n",
    "출력 : [\\\n",
    "         [-1, 0, 1],\\\n",
    "         [-1, -1, 2]\\\n",
    "       ]"
   ]
  },
  {
   "cell_type": "code",
   "execution_count": 1,
   "metadata": {},
   "outputs": [],
   "source": [
    "from typing import List"
   ]
  },
  {
   "cell_type": "code",
   "execution_count": 16,
   "metadata": {},
   "outputs": [
    {
     "data": {
      "text/plain": [
       "[1, 2]"
      ]
     },
     "execution_count": 16,
     "metadata": {},
     "output_type": "execute_result"
    }
   ],
   "source": [
    "x = [1,2,3]\n",
    "x.remove(3)\n",
    "x"
   ]
  },
  {
   "cell_type": "code",
   "execution_count": 61,
   "metadata": {},
   "outputs": [],
   "source": [
    "def sum3(nums:List[int])->List[int]:\n",
    "    result = []\n",
    "    nums.sort()\n",
    "    \n",
    "    for i in range(len(nums)-2):\n",
    "        \n",
    "        if i > 0 and nums[i] == nums[i-1]:\n",
    "            continue\n",
    "        \n",
    "        for j in range(i+1,len(nums)-1):\n",
    "            \n",
    "            if j > i+1 and nums[j] == nums[j-1]:\n",
    "                continue\n",
    "            \n",
    "            for k in range(j+1,len(nums)):\n",
    "                \n",
    "                if k > j+1 and nums[k] == nums[k-1]:\n",
    "                    continue\n",
    "                    \n",
    "                if nums[i]+nums[j]+nums[k]==0:\n",
    "                    \n",
    "                    result.append([nums[i],nums[j],nums[k]])\n",
    "    \n",
    "    return result"
   ]
  },
  {
   "cell_type": "code",
   "execution_count": 62,
   "metadata": {},
   "outputs": [
    {
     "data": {
      "text/plain": [
       "[[-1, -1, 2], [-1, 0, 1]]"
      ]
     },
     "execution_count": 62,
     "metadata": {},
     "output_type": "execute_result"
    }
   ],
   "source": [
    "nums = [-1, 0, 1, 2, -1, -4]\n",
    "Threesum = sum3(nums)\n",
    "Threesum"
   ]
  },
  {
   "cell_type": "markdown",
   "metadata": {},
   "source": [
    "위 방법은 $O(n^3)$ 이므로 타임아웃으로 풀이에 실패한다."
   ]
  },
  {
   "cell_type": "code",
   "execution_count": 67,
   "metadata": {},
   "outputs": [],
   "source": [
    "def sum3(nums:List[int], target:int)->List[int]:\n",
    "    result = []\n",
    "    nums.sort()\n",
    "    \n",
    "    for i in range(len(nums)-1):\n",
    "        \n",
    "        if i > 0 and nums[i] == nums[i-1]:\n",
    "            continue\n",
    "            \n",
    "        for j in range(i,len(nums)):\n",
    "            \n",
    "            if j > 0 and nums[j] == nums[j-1]:\n",
    "                continue\n",
    "                \n",
    "            if target - (nums[i]+nums[j]) in nums[j+1:]:\n",
    "                result.append([nums[i], nums[j], target - (nums[i]+nums[j])])\n",
    "                \n",
    "    return result"
   ]
  },
  {
   "cell_type": "code",
   "execution_count": 68,
   "metadata": {},
   "outputs": [
    {
     "data": {
      "text/plain": [
       "[[-1, -1, 2], [-1, 0, 1]]"
      ]
     },
     "execution_count": 68,
     "metadata": {},
     "output_type": "execute_result"
    }
   ],
   "source": [
    "nums = [-1, 0, 1, 2, -1, -4]\n",
    "target = 0\n",
    "Threesum = sum3(nums, target)\n",
    "Threesum"
   ]
  },
  {
   "cell_type": "code",
   "execution_count": 69,
   "metadata": {},
   "outputs": [],
   "source": [
    "def sum3(nums:List[int], target:int)->List[int]:\n",
    "    results = []\n",
    "    nums.sort()\n",
    "    \n",
    "    for i in range(len(nums)-2):\n",
    "        \n",
    "        if i>0 and nums[i] == nums[i-1]:\n",
    "            continue\n",
    "        left, right = i+1, len(nums)-1\n",
    "        while left < right:\n",
    "            sum = nums[i]+nums[left]+nums[right]\n",
    "            if sum < target:\n",
    "                left += 1\n",
    "                \n",
    "            elif sum > target:\n",
    "                right -= 1\n",
    "                \n",
    "            else:\n",
    "                results.append((nums[i], nums[left], nums[right]))\n",
    "                \n",
    "                # 중복된 숫자있을 수 있으므로 중복되지 않는 수가 등장할 때까지 인덱스 옮기기\n",
    "                while left < right and nums[left] == nums[left+1]:\n",
    "                    left += 1\n",
    "                while left > right and nums[right] == nums[righ-1]:\n",
    "                    right -= 1\n",
    "                left += 1\n",
    "                right -= 1\n",
    "                \n",
    "    return results"
   ]
  },
  {
   "cell_type": "code",
   "execution_count": 70,
   "metadata": {},
   "outputs": [
    {
     "data": {
      "text/plain": [
       "[(-1, -1, 2), (-1, 0, 1)]"
      ]
     },
     "execution_count": 70,
     "metadata": {},
     "output_type": "execute_result"
    }
   ],
   "source": [
    "nums = [-1, 0, 1, 2, -1, -4]\n",
    "target = 0\n",
    "Threesum = sum3(nums, target)\n",
    "Threesum"
   ]
  }
 ],
 "metadata": {
  "kernelspec": {
   "display_name": "Python 3",
   "language": "python",
   "name": "python3"
  },
  "language_info": {
   "codemirror_mode": {
    "name": "ipython",
    "version": 3
   },
   "file_extension": ".py",
   "mimetype": "text/x-python",
   "name": "python",
   "nbconvert_exporter": "python",
   "pygments_lexer": "ipython3",
   "version": "3.7.6"
  }
 },
 "nbformat": 4,
 "nbformat_minor": 4
}
