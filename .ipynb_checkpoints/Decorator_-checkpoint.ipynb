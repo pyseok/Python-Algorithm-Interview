{
 "cells": [
  {
   "cell_type": "markdown",
   "metadata": {},
   "source": [
    "### decorator를 사용하지 않았을 경우"
   ]
  },
  {
   "cell_type": "code",
   "execution_count": 5,
   "metadata": {},
   "outputs": [],
   "source": [
    "import datetime\n",
    "\n",
    "def main_function_1():\n",
    "\n",
    "     print (datetime.datetime.now())\n",
    "\n",
    "     print (\"MAIN FUNCTION 1 START\")\n",
    "\n",
    "     print (datetime.datetime.now())\n",
    "\n",
    "\n",
    "def main_function_2():\n",
    "\n",
    "     print (datetime.datetime.now())\n",
    "\n",
    "     print (\"MAIN FUNCTION 2 START\")\n",
    "\n",
    "     print (datetime.datetime.now())\n",
    "\n",
    "\n",
    "def main_function_3():\n",
    "\n",
    "     print (datetime.datetime.now())\n",
    "\n",
    "     print (\"MAIN FUNCTION 3 START\")\n",
    "\n",
    "print (datetime.datetime.now())"
   ]
  },
  {
   "cell_type": "markdown",
   "metadata": {},
   "source": [
    "### decorator를 사용했을 경우"
   ]
  },
  {
   "cell_type": "code",
   "execution_count": 6,
   "metadata": {},
   "outputs": [],
   "source": [
    "import datetime\n",
    "\n",
    "def datetime_decorator(func):\n",
    "    def decorated():\n",
    "        print(datatime.datetime.now())\n",
    "        func()\n",
    "        print(datatime.datetime.now())\n",
    "    return decorated\n",
    "\n",
    "@datetime_decorator\n",
    "def main_function_1():\n",
    "    print(\"MAIN FUNCTION 1 START\")\n",
    "    \n",
    "def main_function_2():\n",
    "    print(\"MAIN FUNCTION 2 START\")\n",
    "    \n",
    "def main_function_3():\n",
    "    print(\"MAIN FUNCTION 3 START\")"
   ]
  },
  {
   "cell_type": "markdown",
   "metadata": {},
   "source": [
    "### Class 형태로 decorator 사용"
   ]
  },
  {
   "cell_type": "code",
   "execution_count": 13,
   "metadata": {},
   "outputs": [
    {
     "name": "stdout",
     "output_type": "stream",
     "text": [
      "2021-06-10 21:29:19.389243\n",
      "MAIN FUNCTION 1 START\n",
      "2021-06-10 21:29:19.389243\n",
      "2021-06-10 21:29:19.389243\n",
      "MAIN FUNCTION 2 START\n",
      "2021-06-10 21:29:19.389243\n"
     ]
    },
    {
     "ename": "TypeError",
     "evalue": "main_function_3() takes 0 positional arguments but 1 was given",
     "output_type": "error",
     "traceback": [
      "\u001b[1;31m---------------------------------------------------------------------------\u001b[0m",
      "\u001b[1;31mTypeError\u001b[0m                                 Traceback (most recent call last)",
      "\u001b[1;32m<ipython-input-13-623780807bc4>\u001b[0m in \u001b[0;36m<module>\u001b[1;34m\u001b[0m\n\u001b[0;32m     26\u001b[0m \u001b[0mmy\u001b[0m\u001b[1;33m.\u001b[0m\u001b[0mmain_function_1\u001b[0m\u001b[1;33m(\u001b[0m\u001b[1;33m)\u001b[0m\u001b[1;33m\u001b[0m\u001b[1;33m\u001b[0m\u001b[0m\n\u001b[0;32m     27\u001b[0m \u001b[0mmy\u001b[0m\u001b[1;33m.\u001b[0m\u001b[0mmain_function_2\u001b[0m\u001b[1;33m(\u001b[0m\u001b[1;33m)\u001b[0m\u001b[1;33m\u001b[0m\u001b[1;33m\u001b[0m\u001b[0m\n\u001b[1;32m---> 28\u001b[1;33m \u001b[0mmy\u001b[0m\u001b[1;33m.\u001b[0m\u001b[0mmain_function_3\u001b[0m\u001b[1;33m(\u001b[0m\u001b[1;33m)\u001b[0m\u001b[1;33m\u001b[0m\u001b[1;33m\u001b[0m\u001b[0m\n\u001b[0m",
      "\u001b[1;31mTypeError\u001b[0m: main_function_3() takes 0 positional arguments but 1 was given"
     ]
    }
   ],
   "source": [
    "import datetime\n",
    "\n",
    "class Datetime_decorator:\n",
    "    def __init__(self, func):\n",
    "        self.func = func\n",
    "    \n",
    "    def __call__(self, *args, **kwargs):\n",
    "        print(datetime.datetime.now())\n",
    "        self.func(*args, **kwargs)\n",
    "        print(datetime.datetime.now())\n",
    "        \n",
    "class MainClass:\n",
    "    @Datetime_decorator\n",
    "    def main_function_1():\n",
    "        print(\"MAIN FUNCTION 1 START\")\n",
    "        \n",
    "    @Datetime_decorator\n",
    "    def main_function_2():\n",
    "        print(\"MAIN FUNCTION 2 START\")\n",
    "        \n",
    "    # 데코레이터 안붙이면 에러(Why?) --> self가 없기 때문.\n",
    "    def main_function_3():\n",
    "        print(\"MAIN FUNCTION 3 START\")\n",
    "        \n",
    "my = MainClass()\n",
    "my.main_function_1()\n",
    "my.main_function_2()\n",
    "my.main_function_3()"
   ]
  },
  {
   "cell_type": "markdown",
   "metadata": {},
   "source": [
    "# functools.wraps\n",
    "\n",
    "decorator사용할 때, 나중에 추적하기 편하기 위해 decorator의 wrapper함수 위에 functool.wrap(func)을 붙여주자"
   ]
  },
  {
   "cell_type": "code",
   "execution_count": 23,
   "metadata": {},
   "outputs": [
    {
     "name": "stdout",
     "output_type": "stream",
     "text": [
      "fibonacci((1,), {}) -> 1\n",
      "fibonacci((0,), {}) -> 0\n",
      "fibonacci((1,), {}) -> 1\n",
      "fibonacci((2,), {}) -> 1\n",
      "fibonacci((3,), {}) -> 2\n"
     ]
    },
    {
     "data": {
      "text/plain": [
       "2"
      ]
     },
     "execution_count": 23,
     "metadata": {},
     "output_type": "execute_result"
    }
   ],
   "source": [
    "def trace(func):\n",
    "    def wrapper(*args, **kwargs):\n",
    "        result = func(*args, **kwargs)\n",
    "        print('%s(%r, %r) -> %r'%(func.__name__, args, kwargs, result)) \n",
    "        return result\n",
    "    \n",
    "    return wrapper\n",
    "\n",
    "@trace\n",
    "def fibonacci(n):\n",
    "    \"\"\"n번째 피보나치 수를 반환\"\"\"\n",
    "    if n in (0,1):\n",
    "        return n\n",
    "    return (fibonacci(n-2)+fibonacci(n-1))\n",
    "\n",
    "#fibonacci=trace(fibonacci)\n",
    "\n",
    "fibonacci(3)"
   ]
  },
  {
   "cell_type": "markdown",
   "metadata": {},
   "source": [
    "동작은 잘 하지만, 데코레이터에서 반환한 값(앞에서 호출한 함수)의 이름이 fibonacci가 아님"
   ]
  },
  {
   "cell_type": "code",
   "execution_count": 24,
   "metadata": {},
   "outputs": [
    {
     "name": "stdout",
     "output_type": "stream",
     "text": [
      "<function trace.<locals>.wrapper at 0x000002012678E5E8>\n"
     ]
    }
   ],
   "source": [
    "print(fibonacci)"
   ]
  },
  {
   "cell_type": "code",
   "execution_count": 25,
   "metadata": {},
   "outputs": [
    {
     "name": "stdout",
     "output_type": "stream",
     "text": [
      "Help on function wrapper in module __main__:\n",
      "\n",
      "wrapper(*args, **kwargs)\n",
      "\n"
     ]
    }
   ],
   "source": [
    "help(fibonacci)"
   ]
  },
  {
   "cell_type": "code",
   "execution_count": 26,
   "metadata": {},
   "outputs": [
    {
     "name": "stdout",
     "output_type": "stream",
     "text": [
      "fibonacci((1,), {}) -> 1\n",
      "fibonacci((0,), {}) -> 0\n",
      "fibonacci((1,), {}) -> 1\n",
      "fibonacci((2,), {}) -> 1\n",
      "fibonacci((3,), {}) -> 2\n"
     ]
    },
    {
     "data": {
      "text/plain": [
       "2"
      ]
     },
     "execution_count": 26,
     "metadata": {},
     "output_type": "execute_result"
    }
   ],
   "source": [
    "from functools import wraps\n",
    "\n",
    "def trace(func):\n",
    "    @wraps(func)\n",
    "    def wrapper(*args, **kwargs):\n",
    "        result = func(*args, **kwargs)\n",
    "        print('%s(%r, %r) -> %r'%(func.__name__, args, kwargs, result)) \n",
    "        return result\n",
    "    \n",
    "    return wrapper\n",
    "\n",
    "@trace\n",
    "def fibonacci(n):\n",
    "    \"\"\"n번째 피보나치 수를 반환\"\"\"\n",
    "    if n in (0,1):\n",
    "        return n\n",
    "    return (fibonacci(n-2)+fibonacci(n-1))\n",
    "\n",
    "fibonacci(3)"
   ]
  },
  {
   "cell_type": "code",
   "execution_count": 27,
   "metadata": {},
   "outputs": [
    {
     "name": "stdout",
     "output_type": "stream",
     "text": [
      "<function fibonacci at 0x00000201268DA4C8>\n"
     ]
    }
   ],
   "source": [
    "print(fibonacci)"
   ]
  },
  {
   "cell_type": "code",
   "execution_count": 28,
   "metadata": {},
   "outputs": [
    {
     "name": "stdout",
     "output_type": "stream",
     "text": [
      "Help on function fibonacci in module __main__:\n",
      "\n",
      "fibonacci(n)\n",
      "    n번째 피보나치 수를 반환\n",
      "\n"
     ]
    }
   ],
   "source": [
    "help(fibonacci)"
   ]
  },
  {
   "cell_type": "code",
   "execution_count": null,
   "metadata": {},
   "outputs": [],
   "source": []
  }
 ],
 "metadata": {
  "kernelspec": {
   "display_name": "Python 3",
   "language": "python",
   "name": "python3"
  },
  "language_info": {
   "codemirror_mode": {
    "name": "ipython",
    "version": 3
   },
   "file_extension": ".py",
   "mimetype": "text/x-python",
   "name": "python",
   "nbconvert_exporter": "python",
   "pygments_lexer": "ipython3",
   "version": "3.7.6"
  }
 },
 "nbformat": 4,
 "nbformat_minor": 4
}
