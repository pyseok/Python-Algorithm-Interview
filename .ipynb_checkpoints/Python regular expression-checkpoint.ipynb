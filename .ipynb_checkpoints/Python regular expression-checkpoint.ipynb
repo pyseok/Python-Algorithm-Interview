{
 "cells": [
  {
   "cell_type": "code",
   "execution_count": 2,
   "metadata": {},
   "outputs": [],
   "source": [
    "import re"
   ]
  },
  {
   "cell_type": "code",
   "execution_count": null,
   "metadata": {},
   "outputs": [],
   "source": [
    "# 정규표현식\n",
    "# re.match : '문자열의 처음' 부터 패턴이 일치하는지 확인\n",
    "print(re.match('a', 'aba'))\n",
    "\n",
    "print('-'*50)\n",
    "\n",
    "# re.search : 반드시 처음부터 일치해야 하는 것은 아님.\n",
    "print(re.search('a', 'aba'))\n",
    "print(re.search('a', 'bba'))\n",
    "print(re.search('a', 'baa'))\n",
    "# span=(1,2) 는 첫번째 a가 두번째(index=1) 부터 온다는 뜻\n",
    "\n",
    "print('-'*50)\n",
    "\n",
    "# re.findall : 문자열 중 패턴과 일치되는 부분을 모두 찾음.\n",
    "print(re.findall('a', 'a'))\n",
    "print(re.findall('a', 'aba'))\n",
    "print(re.findall('a', 'bbb'))\n",
    "print(re.findall('a', 'bba'))\n",
    "print(re.findall('a', 'baa'))\n",
    "\n",
    "# re.finditer(pattern, string, flags) : findall과 비슷. but 일치된 문자열 리스트 대신\n",
    "# matchObj 리스트 반환\n",
    "\n",
    "print('-'*50)\n",
    "\n",
    "matchObj_iter = re.finditer('a', 'baa')\n",
    "print(matchObj_iter)\n",
    "\n",
    "for matchObj in matchObj_iter:\n",
    "    print(matchObj)\n",
    "    \n",
    "print('-'*50)\n",
    "    \n",
    "# re.fullmatch(pattern, string, flags) : 패턴과 문자열이 남는 부분 없이 완벽하게 일치하는지 검사.\n",
    "print(re.fullmatch('a','aba'))\n",
    "print(re.fullmatch('a','bbb'))\n",
    "print(re.fullmatch('a','bba'))\n",
    "print(re.fullmatch('a','baa'))\n",
    "\n",
    "print('-'*50)\n",
    "\n",
    "# 비인쇄 문자 : 벨 \\a, 이스케이프 \\e, 폼 피드 \\f, 라인 피드(개행문자) \\n, 캐리지 리턴 \\r,\n",
    "#             가로 탭 \\t, 세로 탭 \\v\n",
    "\n",
    "# \\a : \\x07, \\e : \\x1B\n",
    "# \\f : \\f, \\n : \\n, \\r : \\r, \\t: \\t, \\v : \\v\n",
    "\n",
    "matchObj = re.findall('\\t ', 'a\\tb\\tc\\t \\t d')\n",
    "print(matchObj)\n",
    "\n",
    "print('-'*50)\n",
    "\n",
    "# [] : 여러 문자 중 하나와 일치\n",
    "# 대괄호 사이에 원하는 문자를 여러 개 넣으면, 문자열이 넣은 문자 중 하나와 일치하면 매칭이 이루어짐.\n",
    "# 즉 OR\n",
    "# 오타 잡기 좋은 기능.\n",
    "matchObj = re.fullmatch(\"You[;']re studying re module[.,]\", \\\n",
    "                        'You;re studying re module,')\n",
    "print(matchObj)\n",
    "\n",
    "print('-'*50)\n",
    "\n",
    "# 캐릿(caret) ^ 문자가 있으면 문자 반전\n",
    "matchObj = re.search('Why [a-z]o serious\\?', 'Why so serious?')\n",
    "print(matchObj)\n",
    "matchObj = re.search('Why [^0-9]o serious\\?', 'Why so serious?')\n",
    "print(matchObj)\n",
    "\n",
    "# -는 차집합 연산 기능 : [a-z-[g-z]] 는 a-f와 같은 의미이다.\n",
    "\n",
    "print('-'*50)\n",
    "\n",
    "# 마침표 : 모든 문자와 일치\n",
    "\n",
    "matchObj = re.findall('r..n[.]', 'ryan. ruin rain round. reign')\n",
    "# 대괄호안에선 .가 메타문자로 동작하지 않는다.\n",
    "print(matchObj)\n",
    "\n",
    "print('-'*50)\n",
    "\n",
    "# 마침표는 개행 문자와 일치 옵션\n",
    "\n",
    "print(re.findall('a..', 'abc a  a\\na'))\n",
    "print(re.findall('a..', 'abc a  a\\na', re.S)) # 마침표는 개행 문자와 일치\n",
    "print(re.findall('a..', 'abc a  a\\na', re.DOTALL))\n",
    "\n",
    "print('-'*50)\n",
    "\n",
    "# 문자 집합 : \\w \\W, \\d \\D, \\s \\S, \\b B\n",
    "# \\w \\W : 단어 문자, 비 단어 문자\n",
    "# \\w 는 단어 문자 1개와 일치. a-zA-z0-9_ (언더바포함)\n",
    "# \\W 는 단어 이외의 문자 1개에 일치. (공백이나 특수문자)\n",
    "\n",
    "matchObj = re.search('\\w\\w\\w', 'a_가') # 단어,단어,단어\n",
    "print(matchObj)\n",
    "matchObj = re.findall('\\w\\W\\w', 'a (9_a a') # 단어,비단어,단어\n",
    "print(matchObj)\n",
    "\n",
    "# \\d \\D : 숫자 문자, 비 숫자 문자\n",
    "matchObj = re.search('\\d\\d', '12abc34')\n",
    "print(matchObj)\n",
    "matchObj = re.findall('\\d\\d', '12abc34')\n",
    "print(matchObj)\n",
    "matchObj = re.findall('\\d\\d\\D\\D', '11aa11c1')\n",
    "print(matchObj)\n",
    "\n",
    "# \\s \\S : 공백 문자, 비 공백 문자\n",
    "# 공백 문자(빈 칸 '', 탭 '\\t', 개행 '\\n')\n",
    "matchObj = re.search('Oh\\smy\\sgod\\s\\S','''Oh my\\tgod\n",
    "!''')\n",
    "print(matchObj)\n",
    "\n",
    "# \\b \\B : 단어 경계, 비 단어 경계\n",
    "# \\b : 단어, 비단어 사이\n",
    "# \\B : 단어, 단어 사이  or  비단어, 비단어 사이\n",
    "# 앞에 r prefix 붙여줘야 됨.\n",
    "matchObj = re.findall(r'\\w\\b\\W\\B', 'ab  c d  == = e= =f')\n",
    "# 단어 문자 / 단어 경계 / 비 단어 문자 / 비 단어 경계\n",
    "# 단어 문자 + 비 단어 문자 + 비 단어 문자\n",
    "print(matchObj)"
   ]
  },
  {
   "cell_type": "code",
   "execution_count": null,
   "metadata": {},
   "outputs": [],
   "source": [
    "# 문제 1\n",
    "# 'line'과는 일치하지만, 'outline'이나 'linear' 등과는 일치하지 않는 정규표현식 작성.\n",
    "# r'\\bline\\b\n",
    "# 문제 2\n",
    "# 'stacatto'에는 일치, 'cat' 이나 'catch', 'copycat' 등과는 일치하지 않는 정규표현식 작성\n",
    "# \\Bcat\\B"
   ]
  },
  {
   "cell_type": "code",
   "execution_count": null,
   "metadata": {},
   "outputs": [],
   "source": [
    "# 헷갈리는 예시\n",
    "# 맨 앞, 맨뒤도 가능\n",
    "print(re.findall(r'\\b', 'a'))\n",
    "print(re.findall(r'\\B', 'a'))\n",
    "\n",
    "print(re.findall(r'\\b', 'a aa'))\n",
    "print(re.findall(r'\\B', 'a aa'))"
   ]
  },
  {
   "cell_type": "code",
   "execution_count": null,
   "metadata": {},
   "outputs": [],
   "source": [
    "# r prefix\n",
    "# 이스케이프 문자\\를 이스케이프 처리 문자가 아닌 일반 리터럴 문자로 인식하게끔 하는 역할\n",
    "#r'\\' # 에러\n",
    "r'\\'' # 2개로 인식\n",
    "#'\\' # 에러\n",
    "'\\''\n",
    "r'\\\\'\n",
    "'\\\\'\n",
    "print(r'\\\\')\n",
    "print(r'\\') # raw string은 홀수 개 \\로 끝날 수 없다."
   ]
  },
  {
   "cell_type": "code",
   "execution_count": 12,
   "metadata": {},
   "outputs": [
    {
     "name": "stdout",
     "output_type": "stream",
     "text": [
      "['ryan1']\n",
      "['ryan1']\n",
      "[]\n",
      "[]\n",
      "[' ryan1 ', ' ryan2 ', ' ryan3 ']\n",
      "[' ryan1 ', ' ryan2 ', ' ryan3 ']\n"
     ]
    }
   ],
   "source": [
    "# ^, $ \\A, \\Z : 문자열 전체 또는 행의 시작이나 끝의 대상을 대조\n",
    "# \\A : 문자열 시작 -- 앵커\n",
    "# \\Z : 문자열 끝 -- 앵커\n",
    "# 앵커 : 문자와 일치x, 정규식 패턴을 특정 위치에 고정시켜서 그 위치에 일치하는 역할\n",
    "# ^와 $는 \\A, \\Z 와 일반적으로 효과가 같다.\n",
    "# re.MULTILINE 옵션 설정하면 행의 시작/끝으로 변함.\n",
    "\n",
    "print(re.findall('\\Aryan\\d\\Z', 'ryan1'))\n",
    "print(re.findall('^ryan\\d$', 'ryan1'))\n",
    "\n",
    "print(re.findall('\\A ryan\\d\\s\\Z', ' ryan1 \\n ryan2 \\n rain1 \\n ryan3 '))\n",
    "print(re.findall('^ ryan\\d\\s$', ' ryan1 \\n ryan2 \\n rain1 \\n ryan3 '))\n",
    "print(re.findall('^ ryan\\d\\s$', ' ryan1 \\n ryan2 \\n rain1 \\n ryan3 ', re.M))\n",
    "print(re.findall('^ ryan\\d\\s$', ' ryan1 \\n ryan2 \\n rain1 \\n ryan3 ', re.MULTILINE))"
   ]
  },
  {
   "cell_type": "markdown",
   "metadata": {},
   "source": [
    "### 정규표현식 - OR, 반복"
   ]
  },
  {
   "cell_type": "code",
   "execution_count": 3,
   "metadata": {},
   "outputs": [
    {
     "name": "stdout",
     "output_type": "stream",
     "text": [
      "['one', 'two', 'three']\n"
     ]
    }
   ],
   "source": [
    "# | : 다자택일\n",
    "matchObj = re.findall('one|two|three', 'one four two three zero')\n",
    "print(matchObj)"
   ]
  },
  {
   "cell_type": "code",
   "execution_count": 4,
   "metadata": {},
   "outputs": [
    {
     "name": "stdout",
     "output_type": "stream",
     "text": [
      "['one', 'one']\n"
     ]
    }
   ],
   "source": [
    "# one을 먼저 찾았기 때문에, oneself를 찾지 않고 넘어갔음.\n",
    "matchObj = re.findall('one|oneself|onerous', 'oneself is the one thing.')\n",
    "print(matchObj)\n",
    "# 해결방법\n",
    "# 1. 더 긴  oneself를 one 앞에다 두면 해결됨.\n",
    "# 2. 단어 경계를 활용한다. \\bone\\b|\\boneself\\b로 쓰면 됨."
   ]
  },
  {
   "cell_type": "code",
   "execution_count": 5,
   "metadata": {},
   "outputs": [
    {
     "name": "stdout",
     "output_type": "stream",
     "text": [
      "<re.Match object; span=(0, 0), match=''>\n",
      "<re.Match object; span=(0, 1), match='a'>\n",
      "<re.Match object; span=(0, 4), match='aaaa'>\n",
      "<re.Match object; span=(0, 6), match='aaaaaa'>\n",
      "['aaa', '', 'aaa', '', 'aa', '', '', '']\n",
      "<re.Match object; span=(0, 34), match='<p> Lorem ipsum... is boring. </p>'>\n"
     ]
    }
   ],
   "source": [
    "# * (asterisk): 0회 이상 반복\n",
    "print(re.match('a*', ''))\n",
    "print(re.match('a*', 'a'))\n",
    "print(re.search('a*', 'aaaa'))\n",
    "print(re.fullmatch('a*', 'aaaaaa'))\n",
    "print(re.findall('a*', 'aaabaaa aa  ')) # 빈 문자열에도 일치됨 (0회 이상이기 때문)\n",
    "\n",
    "matchObj = re.search('<p>.*</p>', '<p> Lorem ipsum... is boring. </p>')\n",
    "print(matchObj)"
   ]
  },
  {
   "cell_type": "code",
   "execution_count": 6,
   "metadata": {},
   "outputs": [
    {
     "name": "stdout",
     "output_type": "stream",
     "text": [
      "None\n",
      "<re.Match object; span=(0, 1), match='a'>\n",
      "<re.Match object; span=(0, 4), match='aaaa'>\n",
      "<re.Match object; span=(0, 6), match='aaaaaa'>\n",
      "['aaa', 'aaa', 'aa']\n",
      "<re.Match object; span=(0, 34), match='<p> Lorem ipsum... is boring. </p>'>\n"
     ]
    }
   ],
   "source": [
    "# + : 1회 이상 반복\n",
    "print(re.match('a+', ''))\n",
    "print(re.match('a+', 'a'))\n",
    "print(re.search('a+', 'aaaa'))\n",
    "print(re.fullmatch('a+', 'aaaaaa'))\n",
    "print(re.findall('a+', 'aaabaaa aa  '))\n",
    "\n",
    "matchObj = re.search('<p>.+</p>', '<p> Lorem ipsum... is boring. </p>')\n",
    "print(matchObj)"
   ]
  },
  {
   "cell_type": "code",
   "execution_count": 7,
   "metadata": {},
   "outputs": [
    {
     "name": "stdout",
     "output_type": "stream",
     "text": [
      "<re.Match object; span=(0, 3), match='aaa'>\n",
      "['aaa', 'aaa']\n",
      "['aa', 'aaa', 'aaaa', 'aaaa']\n",
      "['aa', 'aaa', 'aaaa', 'aaaaa']\n"
     ]
    }
   ],
   "source": [
    "# {n,m} : 지정 횟수만큼 반복\n",
    "print(re.search('a{3}', 'aaaaa'))\n",
    "print(re.findall('a{3}', 'aaaaaaaa'))\n",
    "print(re.findall('a{2,4}', 'a aa aaa aaaa aaaaa'))\n",
    "print(re.findall('a{2,}', 'a aa aaa aaaa aaaaa'))"
   ]
  },
  {
   "cell_type": "code",
   "execution_count": 8,
   "metadata": {},
   "outputs": [
    {
     "name": "stdout",
     "output_type": "stream",
     "text": [
      "['aa', 'aba', 'aa', 'aa']\n"
     ]
    }
   ],
   "source": [
    "# ? : 0회 또는 1회 반복\n",
    "print(re.findall('ab?a', 'aa aba aaaa')) # b가 있어도 되고 없어도 되고"
   ]
  },
  {
   "cell_type": "code",
   "execution_count": null,
   "metadata": {},
   "outputs": [],
   "source": [
    "# *,+,{n,m}, ? : 정량자 또는 수량자라고 부른다."
   ]
  },
  {
   "cell_type": "code",
   "execution_count": 9,
   "metadata": {},
   "outputs": [
    {
     "name": "stdout",
     "output_type": "stream",
     "text": [
      "<p> Lorem ipsum... is boring. </p>\n",
      "# ---------------------------------------------------------------- #\n",
      "<p> part 1 </p> part 2 </p>\n",
      "<p> part 3 </p> part 4 </p>\n",
      "# ---------------------------------------------------------------- #\n",
      "<p> part 1 </p>\n"
     ]
    }
   ],
   "source": [
    "# Advanced: 탐욕 정량자 vs 나태 정량자\n",
    "# 기본적으로 모든 정량자들은 일치되는 부분에 대해 최대한 많이 일치시키려고 한다.\n",
    "# 1번 예시\n",
    "matchObj = re.search('<p>.*</p>', '<p> Lorem ipsum... is boring. </p>')\n",
    "print(matchObj.group())\n",
    "\n",
    "print('# ---------------------------------------------------------------- #')\n",
    "\n",
    "# 2번 예시\n",
    "matchObj = re.search('<p>.*</p>', '''\n",
    "<p> part 1 </p> part 2 </p>\n",
    "<p> part 3 </p> part 4 </p>\n",
    "''', re.DOTALL)\n",
    "print(matchObj.group())\n",
    "\n",
    "print('# ---------------------------------------------------------------- #')\n",
    "\n",
    "# 3번 예시 -- 나태 정량자 뒤에 ?만 붙여주면 된다.\n",
    "matchObj = re.search('<p>.*?</p>', '''\n",
    "<p> part 1 </p> part 2 </p>\n",
    "<p> part 3 </p> part 4 </p>\n",
    "''', re.DOTALL)\n",
    "print(matchObj.group())"
   ]
  },
  {
   "cell_type": "code",
   "execution_count": 11,
   "metadata": {},
   "outputs": [
    {
     "name": "stdout",
     "output_type": "stream",
     "text": [
      "<re.Match object; span=(1, 56), match='<p> part 1 </p> part 2 </p>\\n<p> part 3 </p> part>\n"
     ]
    }
   ],
   "source": [
    "matchObj = re.search('<p>.*</p>', '''\n",
    "<p> part 1 </p> part 2 </p>\n",
    "<p> part 3 </p> part 4 </p>\n",
    "''', re.DOTALL)\n",
    "print(matchObj)"
   ]
  },
  {
   "cell_type": "code",
   "execution_count": null,
   "metadata": {},
   "outputs": [],
   "source": []
  },
  {
   "cell_type": "code",
   "execution_count": null,
   "metadata": {},
   "outputs": [],
   "source": []
  },
  {
   "cell_type": "code",
   "execution_count": null,
   "metadata": {},
   "outputs": [],
   "source": [
    "\n",
    "\n",
    "\n",
    "\n",
    "\n",
    "\n",
    "\n",
    "\n",
    "\n",
    "\n",
    "\n",
    "\n",
    "\n",
    "\n",
    "\n",
    "\n",
    "\n",
    "\n",
    "\n",
    "\n",
    "\n",
    "\n",
    "\n",
    "\n",
    "\n",
    "\n",
    "\n",
    "\n",
    "\n",
    "\n",
    "\n",
    "\n",
    "\n",
    "\n",
    "\n",
    "\n",
    "\n",
    "\n"
   ]
  }
 ],
 "metadata": {
  "kernelspec": {
   "display_name": "Python 3",
   "language": "python",
   "name": "python3"
  },
  "language_info": {
   "codemirror_mode": {
    "name": "ipython",
    "version": 3
   },
   "file_extension": ".py",
   "mimetype": "text/x-python",
   "name": "python",
   "nbconvert_exporter": "python",
   "pygments_lexer": "ipython3",
   "version": "3.7.8"
  }
 },
 "nbformat": 4,
 "nbformat_minor": 4
}
